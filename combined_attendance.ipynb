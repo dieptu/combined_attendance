{
  "nbformat": 4,
  "nbformat_minor": 0,
  "metadata": {
    "colab": {
      "provenance": []
    },
    "kernelspec": {
      "name": "python3",
      "display_name": "Python 3"
    },
    "language_info": {
      "name": "python"
    }
  },
  "cells": [
    {
      "cell_type": "code",
      "source": [
        "import pandas as pd\n",
        "\n",
        "# Load Master File\n",
        "master_file = \"W25 - PROG12583 Python Credit Recovery Attendance(Grades).csv\"\n",
        "master_df = pd.read_csv(master_file)\n",
        "\n",
        "# Load Attendance File\n",
        "attendance_file_monday = \"20250224 Monday Morning Session - Arithmetic Operations.csv\"\n",
        "attendance_df_monday = pd.read_csv(attendance_file_monday)\n",
        "#\n",
        "attendance_file_tuesday = \"20250225 Tuesday Morning Session - Formatted Print.csv\"\n",
        "attendance_df_tuesday = pd.read_csv(attendance_file_tuesday)\n",
        "#\n",
        "attendance_file_wednesday = \"20250226 Wednesday Morning Session - Lists and If Statements.csv\"\n",
        "attendance_df_wednesday = pd.read_csv(attendance_file_wednesday)\n",
        "\n",
        "# Ensure column names match (strip spaces just in case)\n",
        "master_df.rename(columns=lambda x: x.strip(), inplace=True)\n",
        "attendance_df_tuesday.rename(columns=lambda x: x.strip(), inplace=True)\n",
        "attendance_df_monday.rename(columns=lambda x: x.strip(), inplace=True)\n",
        "attendance_df_wednesday.rename(columns=lambda x: x.strip(), inplace=True)\n",
        "\n",
        "# Merge attendance data based on OrgDefinedId\n",
        "attendance_mapping_monday = attendance_df_monday.set_index(\"OrgDefinedId\")[\"Minutes Attended\"]\n",
        "attendance_mapping_tuesday = attendance_df_tuesday.set_index(\"OrgDefinedId\")[\"Minutes Attended\"]\n",
        "attendance_mapping_wednesday = attendance_df_wednesday.set_index(\"OrgDefinedId\")[\"Minutes Attended\"]\n",
        "\n",
        "\n",
        "# Update the existing \"Tuesday Lecture\" column with attendance data\n",
        "master_df[\"Monday Lecture\"] = master_df[\"OrgDefinedId\"].map(attendance_mapping_monday)\n",
        "master_df[\"Tuesday Lecture\"] = master_df[\"OrgDefinedId\"].map(attendance_mapping_tuesday)\n",
        "master_df[\"Wednesday Lecture\"] = master_df[\"OrgDefinedId\"].map(attendance_mapping_wednesday)\n",
        "\n",
        "\n",
        "# Fill missing values with \"Absent\"\n",
        "master_df[\"Monday Lecture\"] = master_df[\"Monday Lecture\"].fillna(0)\n",
        "master_df[\"Tuesday Lecture\"] = master_df[\"Tuesday Lecture\"].fillna(0)\n",
        "master_df[\"Wednesday Lecture\"] = master_df[\"Wednesday Lecture\"].fillna(0)\n",
        "\n",
        "# Save the updated master file\n",
        "updated_file = \"Updated_Master_File.xlsx\"\n",
        "master_df.to_excel(updated_file, index=False)\n",
        "\n",
        "print(\"Attendance data updated successfully! Saved as\", updated_file)"
      ],
      "metadata": {
        "colab": {
          "base_uri": "https://localhost:8080/"
        },
        "id": "igiz8LH7rrAI",
        "outputId": "76fc1fc2-26aa-4034-f8c2-1ae6b1f5e37f"
      },
      "execution_count": 17,
      "outputs": [
        {
          "output_type": "stream",
          "name": "stdout",
          "text": [
            "Attendance data updated successfully! Saved as Updated_Master_File.xlsx\n"
          ]
        }
      ]
    }
  ]
}